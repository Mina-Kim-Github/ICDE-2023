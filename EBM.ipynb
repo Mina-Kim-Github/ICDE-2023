{
 "cells": [
  {
   "cell_type": "code",
   "execution_count": null,
   "id": "fc4c3aa4",
   "metadata": {},
   "outputs": [],
   "source": [
    "from interpret.provider import InlineProvider\n",
    "from interpret import set_visualize_provider\n",
    "\n",
    "set_visualize_provider(InlineProvider())"
   ]
  },
  {
   "cell_type": "code",
   "execution_count": null,
   "id": "5d8cf3c4",
   "metadata": {},
   "outputs": [],
   "source": [
    "from interpret.glassbox import ExplainableBoostingClassifier, ExplainableBoostingRegressor\n",
    "from interpret import show"
   ]
  },
  {
   "cell_type": "code",
   "execution_count": null,
   "id": "7eadff80",
   "metadata": {},
   "outputs": [],
   "source": [
    "import sys \n",
    "from pathlib import Path\n",
    "import pickle\n",
    "from interpret.glassbox import ExplainableBoostingClassifier, ExplainableBoostingRegressor\n",
    "\n",
    "main_path = Path('..').resolve()\n",
    "sys.path.append(str(main_path))"
   ]
  },
  {
   "cell_type": "code",
   "execution_count": null,
   "id": "b4c7233b",
   "metadata": {},
   "outputs": [],
   "source": [
    "def execute(name):\n",
    "    with open('../cache/models/%s.pickle' % name, 'rb') as f:\n",
    "        data = pickle.load(f)\n",
    "        dataset = data['dataset']\n",
    "    X_train, X_test, y_train, y_test = dataset.data['X_train'], dataset.data['X_test'], dataset.data['y_train'], dataset.data['y_test']\n",
    "    if dataset.task_type == 'reg':\n",
    "        ebm = ExplainableBoostingRegressor(random_state=7)\n",
    "    else:\n",
    "        ebm = ExplainableBoostingClassifier(random_state=7)\n",
    "    \n",
    "    ebm.fit(X_train, y_train)\n",
    "    glb = ebm.explain_global()\n",
    "    return ebm, glb"
   ]
  },
  {
   "cell_type": "code",
   "execution_count": null,
   "id": "3abd66bd",
   "metadata": {},
   "outputs": [],
   "source": [
    "dataset_names = ['adult', 'boston', 'california', 'titanic']\n",
    "\n",
    "for ds in dataset_names:\n",
    "    data = {}\n",
    "    ebm, glb = execute(ds)\n",
    "    data['ebm'] = ebm\n",
    "    data['intercept'] = ebm.intercept_\n",
    "    data['feature_names'] = ebm.feature_names\n",
    "    data['figs'] = dict()\n",
    "    for i, f_name in enumerate(ebm.feature_names):\n",
    "        data['figs'][f_name] = glb.visualize(i)\n",
    "    with open(f'../cache/models/{ds}_ebm.pickle', 'wb') as file:\n",
    "        pickle.dump(data, file)"
   ]
  },
  {
   "cell_type": "code",
   "execution_count": null,
   "id": "c61ad00a",
   "metadata": {},
   "outputs": [],
   "source": [
    "intercept = ebm.intercept_\n",
    "features = ebm.feature_names\n",
    "figs = {}\n",
    "for i, f_name in enumerate(ebm.feature_names):\n",
    "    figs[f_name] = glb.visualize(i)"
   ]
  },
  {
   "cell_type": "code",
   "execution_count": null,
   "id": "bfe2bf73",
   "metadata": {},
   "outputs": [],
   "source": [
    "ebm.feature_names"
   ]
  },
  {
   "cell_type": "code",
   "execution_count": null,
   "id": "3e9da883",
   "metadata": {},
   "outputs": [],
   "source": [
    "figs['Age']"
   ]
  },
  {
   "cell_type": "code",
   "execution_count": null,
   "id": "eb4759ab",
   "metadata": {},
   "outputs": [],
   "source": [
    "figs['Parch x Fare']"
   ]
  }
 ],
 "metadata": {
  "kernelspec": {
   "display_name": "Python 3 (ipykernel)",
   "language": "python",
   "name": "python3"
  },
  "language_info": {
   "codemirror_mode": {
    "name": "ipython",
    "version": 3
   },
   "file_extension": ".py",
   "mimetype": "text/x-python",
   "name": "python",
   "nbconvert_exporter": "python",
   "pygments_lexer": "ipython3",
   "version": "3.10.4"
  }
 },
 "nbformat": 4,
 "nbformat_minor": 5
}
