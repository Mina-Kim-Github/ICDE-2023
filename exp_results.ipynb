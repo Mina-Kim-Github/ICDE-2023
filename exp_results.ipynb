{
 "cells": [
  {
   "cell_type": "code",
   "execution_count": null,
   "id": "096fbce8",
   "metadata": {},
   "outputs": [],
   "source": [
    "import sys \n",
    "from pathlib import Path\n",
    "\n",
    "main_path = Path('..').resolve()\n",
    "sys.path.append(str(main_path))\n",
    "\n",
    "from fge import FeatureInteractionTree\n",
    "import pickle\n",
    "from collections import defaultdict\n",
    "import pandas as pd\n",
    "\n",
    "dataset_names = ['adult', 'boston', 'california', 'titanic']"
   ]
  },
  {
   "cell_type": "code",
   "execution_count": null,
   "id": "be0983f7",
   "metadata": {},
   "outputs": [],
   "source": [
    "from sklearn.metrics import r2_score, accuracy_score, mean_squared_error\n",
    "\n",
    "objective_dict = {\n",
    "    'reg': mean_squared_error, \n",
    "    'binary': accuracy_score,\n",
    "}"
   ]
  },
  {
   "cell_type": "code",
   "execution_count": null,
   "id": "d9b251fa",
   "metadata": {},
   "outputs": [],
   "source": [
    "results = [['ds', 'score', 'ebm_score', 'ebm_gap']]\n",
    "for ds in dataset_names:\n",
    "    model_ebm_file = main_path / 'cache' / 'models' / f'{ds}_ebm.pickle'\n",
    "    model_file = main_path / 'cache' / 'models' / f'{ds}.pickle'\n",
    "    with model_file.open('rb') as file:\n",
    "        model_data = pickle.load(file)\n",
    "    with model_ebm_file.open('rb') as file:\n",
    "        model_ebm_data = pickle.load(file)\n",
    "    \n",
    "    dataset = model_data['dataset']\n",
    "    score = model_data['score']\n",
    "    X_test = dataset.data['X_test']\n",
    "    y_test = dataset.data['y_test']\n",
    "    ebm = model_ebm_data['ebm']\n",
    "    eval_fn = objective_dict[dataset.task_type]\n",
    "    y_pred = ebm.predict(X_test)\n",
    "    ebm_score = eval_fn(y_test, y_pred)\n",
    "    gap = score - ebm_score\n",
    "    results.append([ds, score, ebm_score, gap])"
   ]
  },
  {
   "cell_type": "code",
   "execution_count": null,
   "id": "1b318f9e",
   "metadata": {},
   "outputs": [],
   "source": [
    "df = pd.DataFrame(results[1:], columns=results[0])"
   ]
  },
  {
   "cell_type": "code",
   "execution_count": null,
   "id": "23429154",
   "metadata": {},
   "outputs": [],
   "source": [
    "df_results = pd.read_csv('../exp_results_head10.csv')\n",
    "df_results = df_results.groupby('ds').first().loc[:, ['linear_gap', 'polynomial_gap']].reset_index()"
   ]
  },
  {
   "cell_type": "code",
   "execution_count": null,
   "id": "6bc6017c",
   "metadata": {},
   "outputs": [],
   "source": [
    "df = pd.merge(df, df_results, how='inner', on='ds')\n",
    "df_origin = df.copy()\n",
    "for c in ['ebm_gap', 'linear_gap', 'polynomial_gap']:\n",
    "    df_origin[c] = df_origin['score'] - df_origin[c]\n",
    "df_origin = df_origin.rename(columns={'ebm_gap': 'ebm', 'linear_gap': 'linear', 'polynomial_gap': 'polynomial'})\n",
    "df_origin.drop(columns=['ebm_score'], inplace=True)"
   ]
  },
  {
   "cell_type": "code",
   "execution_count": null,
   "id": "5153731b",
   "metadata": {},
   "outputs": [],
   "source": [
    "df"
   ]
  },
  {
   "cell_type": "code",
   "execution_count": null,
   "id": "8a202df9",
   "metadata": {},
   "outputs": [],
   "source": [
    "df_origin"
   ]
  },
  {
   "cell_type": "code",
   "execution_count": null,
   "id": "c655b488",
   "metadata": {},
   "outputs": [],
   "source": [
    "dict_data = defaultdict(list)\n",
    "trees = defaultdict()\n",
    "base_res = defaultdict()\n",
    "dataset_names = ['adult', 'boston', 'california', 'titanic']\n",
    "\n",
    "for ds in dataset_names:\n",
    "    print(f'Working on {ds}...')\n",
    "    model_file = main_path / 'checkpoints' / 'models' / f'{ds}.pickle'\n",
    "    with model_file.open('rb') as file:\n",
    "        model_data = pickle.load(file)\n",
    "    n_feautres = len(model_data['dataset'].feature_names)   \n",
    "\n",
    "    exp_files = list((main_path / 'checkpoints' / 'exps' / ds).glob('*.pickle'))\n",
    "\n",
    "    for exp_p in exp_files:\n",
    "        score_method, args_n_search, args_select, args_filter = exp_p.name.rstrip('.pickle').split('-')\n",
    "        n_search = int(args_n_search.split('_')[-1])\n",
    "        select_method = args_select.split('_')[-2]\n",
    "        select_ratio = float(args_select.split('_')[-1])\n",
    "        filter_method = args_filter.split('_')[-2]\n",
    "        filter_ratio = float(args_filter.split('_')[-1])\n",
    "\n",
    "        with exp_p.open('rb') as file:\n",
    "            data = pickle.load(file)\n",
    "\n",
    "        if base_res.get(ds) is None:\n",
    "            base_res[ds] = data['base_results']\n",
    "\n",
    "        tree = data['tree']\n",
    "        t = list(map(float, data['time'].replace(' m', '').replace(' s', '').split(', ')))\n",
    "        time = 60*t[0] + t[1]\n",
    "        \n",
    "        dict_data['ds'].append(ds)\n",
    "        dict_data['score_method'].append(score_method)\n",
    "        dict_data['n_search'].append(n_search)\n",
    "        dict_data['select_method'].append(select_method)\n",
    "        dict_data['select_ratio'].append(select_ratio)\n",
    "        dict_data['filter_method'].append(filter_method)\n",
    "        dict_data['filter_ratio'].append(filter_ratio)\n",
    "        dict_data['time'].append(time)\n",
    "        dict_data['tree_gap'].append(tree.gap)\n",
    "        trees[ds+'_'+exp_p.name.rstrip('.pickle')] = tree\n",
    "        origin_score = data['origin_score']\n",
    "        \n",
    "        for k, v in data['base_results'].items():\n",
    "            dict_data[f'{k}_gap'].append(origin_score - v[0])\n",
    "        dict_data['origin_score'].append(origin_score)\n",
    "\n",
    "df_data = pd.DataFrame(dict_data)"
   ]
  },
  {
   "cell_type": "code",
   "execution_count": null,
   "id": "1f48ba37",
   "metadata": {},
   "outputs": [],
   "source": [
    "with open('../checkpoints/trees.pickle', 'wb') as file:\n",
    "    pickle.dump(trees, file)\n",
    "\n",
    "df_data.to_csv('../exp_results.csv', index=False)"
   ]
  },
  {
   "cell_type": "code",
   "execution_count": null,
   "id": "7af7b459",
   "metadata": {},
   "outputs": [],
   "source": [
    "df_head10 = df_data.sort_values(['ds', 'tree_gap']).groupby('ds').head(10)\n",
    "df_head10['exp'] = df_head10['ds'] + '_' + df_head10['score_method'] + '-beam_' + df_head10['n_search'].astype(str) + '-select_' + df_head10['select_method'].astype(str) + '_' + df_head10['select_ratio'].astype(str) + \\\n",
    "    '-filter_' + df_head10['filter_method'].astype(str) + '_' + df_head10['filter_ratio'].astype(str)\n",
    "df_head10 = df_head10.set_index('exp')\n",
    "df_head10.to_csv('../exp_results_head10.csv')\n",
    "\n",
    "trees_head10 = defaultdict(list)\n",
    "for ds in dataset_names:\n",
    "    for k in df_head10.loc[df_head10['ds'] == ds].index:\n",
    "        trees_head10[ds].append((k, trees[k]))\n",
    "    trees_head10[f'base_{ds}'] = base_res[ds]\n",
    "with open('../checkpoints/trees_head10.pickle', 'wb') as file:\n",
    "    pickle.dump(trees_head10, file)"
   ]
  },
  {
   "cell_type": "code",
   "execution_count": null,
   "id": "25b86f66",
   "metadata": {},
   "outputs": [],
   "source": [
    "df_desc = pd.read_csv('../cache/datasets/adult_desc.csv')\n",
    "df.columns"
   ]
  },
  {
   "cell_type": "code",
   "execution_count": null,
   "id": "8241a1be",
   "metadata": {},
   "outputs": [],
   "source": [
    "detail_list = df_desc.loc[df_desc.loc[:, ['encoded', 'data', 'detail']].isnull().sum(1) != 3, 'feature'].drop_duplicates().values\n",
    "detail_list"
   ]
  },
  {
   "cell_type": "code",
   "execution_count": null,
   "id": "84603ee3",
   "metadata": {},
   "outputs": [],
   "source": [
    "detail = 'Sex'"
   ]
  },
  {
   "cell_type": "code",
   "execution_count": null,
   "id": "497ed341",
   "metadata": {},
   "outputs": [],
   "source": [
    "df_detail = df_desc.loc[df_desc['feature'] == detail, ['encoded', 'data', 'detail']].fillna('')\n",
    "df_detail.to_dict()"
   ]
  },
  {
   "cell_type": "code",
   "execution_count": null,
   "id": "965a5c1c",
   "metadata": {},
   "outputs": [],
   "source": [
    "import pandas as pd\n",
    "import numpy as np\n",
    "import hvplot.pandas\n",
    "\n",
    "dataset_names = ['adult', 'titanic', 'boston', 'california']\n",
    "df = pd.read_csv('../exp_results.csv')"
   ]
  },
  {
   "cell_type": "code",
   "execution_count": null,
   "id": "6174da15",
   "metadata": {},
   "outputs": [],
   "source": [
    "df.groupby('ds')['tree_gap'].describe()"
   ]
  },
  {
   "cell_type": "code",
   "execution_count": null,
   "id": "d9e0ca1e",
   "metadata": {},
   "outputs": [],
   "source": [
    "for ds, thres in df.groupby('ds')['tree_gap'].quantile(0.75).items():\n",
    "    df_temp = df.loc[df['ds'] == ds]\n",
    "    p = (df_temp.loc[:, 'tree_gap'] >= thres).sum() / len(df_temp)\n",
    "    print(f'{ds}: {p*100:.2f}% of data in `{ds}` larger than q75={thres:.4f}')"
   ]
  },
  {
   "cell_type": "code",
   "execution_count": null,
   "id": "43b50169",
   "metadata": {},
   "outputs": [],
   "source": [
    "def boxplot(df, exp_name, target):\n",
    "    for i, ds in enumerate(dataset_names):\n",
    "        df_temp = df.loc[df['ds'] == ds].sort_values(exp_name)\n",
    "        q1 = df_temp[target].quantile(0.00)\n",
    "        q2 = df_temp[target].quantile(0.90)\n",
    "        if i == 0:\n",
    "            box_plot = df_temp.hvplot.box(y=target, by=exp_name, title=f'{ds}', subplots=True, height=400, width=400).opts(shared_axes=False, ylim=(q1-q1/10, q2+q2/10))\n",
    "        else:\n",
    "            box_plot += df_temp.hvplot.box(y=target, by=exp_name, title=f'{ds}', subplots=True, height=400, width=400).opts(shared_axes=False, ylim=(q1-q1/10, q2+q2/10))\n",
    "    return box_plot\n",
    "\n",
    "def q25dist(df, exp_name, target):\n",
    "    for i, ds in enumerate(dataset_names):\n",
    "        df_temp = df.loc[(df['ds'] == ds)].sort_values(exp_name)\n",
    "        df_lower = df_temp.loc[df_temp[target] <= df_temp[target].quantile(0.25)]\n",
    "        if i == 0:\n",
    "            vio_plot = df_lower.hvplot.box(y=target, by=exp_name, height=400, width=500, title=f'{ds}-Lower Quartile Distribution: {len(df_lower)}/{len(df_temp)} data').opts(shared_axes=True, yformatter='%.4f')\n",
    "        else:\n",
    "            vio_plot += df_lower.hvplot.box(y=target, by=exp_name, height=400, width=500, title=f'{ds}-Lower Quartile Distribution: {len(df_lower)}/{len(df_temp)} data').opts(shared_axes=True, yformatter='%.4f')\n",
    "    return vio_plot"
   ]
  },
  {
   "cell_type": "code",
   "execution_count": null,
   "id": "23b5c087",
   "metadata": {},
   "outputs": [],
   "source": [
    "# score_method\n",
    "exp_name = 'score_method'\n",
    "target = 'tree_gap'\n",
    "boxplot(df, exp_name, target)"
   ]
  },
  {
   "cell_type": "code",
   "execution_count": null,
   "id": "f81ae16f",
   "metadata": {},
   "outputs": [],
   "source": [
    "exp_name = 'n_search'\n",
    "target = 'tree_gap'\n",
    "boxplot(df, exp_name, target)"
   ]
  },
  {
   "cell_type": "code",
   "execution_count": null,
   "id": "6995839e",
   "metadata": {},
   "outputs": [],
   "source": [
    "exp_name = 'select_method'\n",
    "target = 'tree_gap'\n",
    "boxplot(df, exp_name, target)"
   ]
  },
  {
   "cell_type": "code",
   "execution_count": null,
   "id": "f36f6b35",
   "metadata": {},
   "outputs": [],
   "source": [
    "exp_name = 'filter_method'\n",
    "target = 'tree_gap'\n",
    "boxplot(df, exp_name, target)"
   ]
  },
  {
   "cell_type": "code",
   "execution_count": null,
   "id": "76a2a3de",
   "metadata": {},
   "outputs": [],
   "source": [
    "exp_name = 'select_ratio'\n",
    "target = 'tree_gap'\n",
    "boxplot(df, exp_name, target)"
   ]
  },
  {
   "cell_type": "code",
   "execution_count": null,
   "id": "2cc5249e",
   "metadata": {},
   "outputs": [],
   "source": [
    "exp_name = 'select_ratio'\n",
    "target = 'time'\n",
    "boxplot(df, exp_name, target)"
   ]
  },
  {
   "cell_type": "code",
   "execution_count": null,
   "id": "25c86316",
   "metadata": {},
   "outputs": [],
   "source": [
    "exp_name = 'filter_ratio'\n",
    "target = 'tree_gap'\n",
    "boxplot(df, exp_name, target)"
   ]
  },
  {
   "cell_type": "code",
   "execution_count": null,
   "id": "9b126a91",
   "metadata": {},
   "outputs": [],
   "source": [
    "exp_name = 'filter_ratio'\n",
    "target = 'time'\n",
    "boxplot(df, exp_name, target)"
   ]
  },
  {
   "cell_type": "code",
   "execution_count": null,
   "id": "8c393e3d",
   "metadata": {},
   "outputs": [],
   "source": [
    "df['origin_score']"
   ]
  },
  {
   "cell_type": "code",
   "execution_count": null,
   "id": "404c24eb",
   "metadata": {},
   "outputs": [],
   "source": [
    "dataset_names"
   ]
  },
  {
   "cell_type": "code",
   "execution_count": null,
   "id": "42720618",
   "metadata": {},
   "outputs": [],
   "source": [
    "df['tree_score/time'] = 0\n",
    "\n",
    "# ['adult', 'boston']\n",
    "idx = df['ds'].isin(['adult', 'boston'])\n",
    "df.loc[idx, 'tree_score/time'] = (df['tree_gap'] + df['origin_score']) / df['time']\n",
    "# ['california', 'titanic']\n",
    "idx = df['ds'].isin(['california', 'titanic'])\n",
    "df.loc[idx, 'tree_score/time'] = -1*(df['tree_gap'] + df['origin_score']) / df['time']"
   ]
  },
  {
   "cell_type": "code",
   "execution_count": null,
   "id": "813e9c28",
   "metadata": {},
   "outputs": [],
   "source": [
    "exp_name = 'select_ratio'\n",
    "target = 'tree_score/time'\n",
    "boxplot(df, exp_name, target)"
   ]
  },
  {
   "cell_type": "code",
   "execution_count": null,
   "id": "00c68ce7",
   "metadata": {},
   "outputs": [],
   "source": [
    "exp_name = 'filter_ratio'\n",
    "target = 'tree_score/time'\n",
    "boxplot(df, exp_name, target)"
   ]
  },
  {
   "cell_type": "code",
   "execution_count": null,
   "id": "cb6a57ec",
   "metadata": {},
   "outputs": [],
   "source": [
    "df_head10 = df_data.sort_values(['ds', 'tree_gap']).groupby('ds').head(10)\n",
    "df_head10['exp'] = df_head10['ds'] + '_' + df_head10['score_method'] + '-beam_' + df_head10['n_search'].astype(str) + '-select_' + df_head10['select_method'].astype(str) + '_' + df_head10['select_ratio'].astype(str) + \\\n",
    "    '-filter_' + df_head10['filter_method'].astype(str) + '_' + df_head10['filter_ratio'].astype(str)\n",
    "df_head10 = df_head10.set_index('exp')"
   ]
  },
  {
   "cell_type": "code",
   "execution_count": null,
   "id": "8f0c0482",
   "metadata": {},
   "outputs": [],
   "source": [
    "import sys \n",
    "from pathlib import Path\n",
    "\n",
    "main_path = Path('..').resolve()\n",
    "sys.path.append(str(main_path))\n",
    "\n",
    "from fge import FeatureInteractionTree\n",
    "import pickle\n",
    "from collections import defaultdict\n",
    "import pandas as pd\n",
    "import numpy as np\n",
    "\n",
    "from fge.utils import flatten\n",
    "\n",
    "dataset_names = ['adult', 'boston', 'california', 'titanic']\n",
    "\n",
    "df_head10 = pd.read_csv('../exp_results_head10.csv').set_index('exp')\n",
    "\n",
    "with open('../cache/trees_head10.pickle', 'rb') as file:\n",
    "    trees_head10 = pickle.load(file)"
   ]
  },
  {
   "cell_type": "code",
   "execution_count": null,
   "id": "4c6c6a69",
   "metadata": {},
   "outputs": [],
   "source": [
    "for ds in dataset_names:\n",
    "    df = defaultdict(list)\n",
    "    print(ds)\n",
    "    for exp, tree in trees_head10[ds]:\n",
    "        tree = FeatureInteractionTree(tree)\n",
    "        df['exp'].append(exp)\n",
    "        df['gap'].append(tree.root.gap)\n",
    "        coef = tree.coef.round(6).tolist()\n",
    "        df['coef'].append(coef)\n",
    "        df['feature(simple)'].append(list(tree.node_name2f_name.keys()))\n",
    "        coef_name = list(tree.node_name2f_name.values())\n",
    "        df['feature(name)'].append(coef_name)\n",
    "    pd.DataFrame(df).to_csv(f'../exp_results/coef_{ds}.csv', index=False)\n",
    "\n",
    "for ds in dataset_names:\n",
    "    df = defaultdict(list)\n",
    "    for exp, tree in trees_head10[ds]:\n",
    "        tree = FeatureInteractionTree(tree)\n",
    "        df['exp'] += [exp]*2\n",
    "        df['gap'] += [tree.root.gap]*2\n",
    "        coef_name = list(tree.node_name2f_name.values())\n",
    "        coef = tree.coef.round(6).tolist()\n",
    "        for i, (n, c) in enumerate(zip(coef_name, coef)):\n",
    "            df[i] += [n, c]\n",
    "    pd.DataFrame(df).to_csv(f'../exp_results/coef2_{ds}.csv', index=False)"
   ]
  },
  {
   "cell_type": "code",
   "execution_count": null,
   "id": "8339ccf5",
   "metadata": {},
   "outputs": [],
   "source": [
    "from itertools import permutations\n",
    "from fge.functions import *\n",
    "from sklearn.metrics import accuracy_score, mean_squared_error\n",
    "\n",
    "TOOLS = ['siv', 'linear', 'tree', 'ebm']\n",
    "DS_NAMES = ['adult', 'boston', 'california', 'titanic']\n",
    "\n",
    "def load_cache(dataset_names, cache_path: Path):\n",
    "    res = defaultdict(dict)\n",
    "    score_methods = {\n",
    "        'g_abs': g_abs,\n",
    "        'g_abs_interaction': g_abs_only_interaction,\n",
    "        'g_ratio': g_ratio,\n",
    "    }\n",
    "    task_dict = {\n",
    "        'reg': mean_squared_error,\n",
    "        'binary': accuracy_score,\n",
    "    }\n",
    "    exp_idx = 0\n",
    "\n",
    "    with open(cache_path / 'trees_head10.pickle', 'rb') as file:\n",
    "        trees_head10 = pickle.load(file)\n",
    "\n",
    "    for ds in dataset_names:\n",
    "        with open(cache_path / f'models/{ds}.pickle', 'rb') as file:\n",
    "            data = pickle.load(file)\n",
    "\n",
    "        exp, tree = trees_head10[ds][exp_idx]\n",
    "        dataset = data['dataset']\n",
    "        # tools\n",
    "        score_fn = score_methods.get(exp.split('-')[0].lstrip(f'{ds}_'))\n",
    "        res[ds]['siv'] = score_fn(data['siv'])\n",
    "        base_res = trees_head10[f'base_{ds}']\n",
    "        res[ds]['linear'] = base_res['linear']\n",
    "        res[ds]['tree'] = FeatureInteractionTree(tree)\n",
    "        res[ds]['ebm'] = 'EBM'\n",
    "        res[ds]['metric'] = task_dict[dataset.task_type]\n",
    "        # dataset\n",
    "        X = dataset.data['X_test']\n",
    "        y = dataset.data['y_test']\n",
    "        res[ds]['set-pre'] = (X.iloc[:16].reset_index(drop=True), y[:16])\n",
    "        res[ds]['set-post'] = (X.iloc[16:32].reset_index(drop=True), y[16:32])\n",
    "\n",
    "    return res"
   ]
  },
  {
   "cell_type": "code",
   "execution_count": null,
   "id": "983612ce",
   "metadata": {},
   "outputs": [],
   "source": [
    "dataset_names = ['adult', 'boston', 'california', 'titanic']\n",
    "cache_path = Path('../cache/')\n",
    "cache = load_cache(dataset_names, cache_path)"
   ]
  },
  {
   "cell_type": "code",
   "execution_count": null,
   "id": "e815848b",
   "metadata": {},
   "outputs": [],
   "source": [
    "ds_cache = cache['adult']"
   ]
  },
  {
   "cell_type": "code",
   "execution_count": null,
   "id": "1efb0883",
   "metadata": {},
   "outputs": [],
   "source": [
    "tool = 'linear'\n",
    "score, model = ds_cache[tool]"
   ]
  },
  {
   "cell_type": "code",
   "execution_count": null,
   "id": "23e3fcdd",
   "metadata": {},
   "outputs": [],
   "source": [
    "model[-1].intercept_.ndim"
   ]
  },
  {
   "cell_type": "code",
   "execution_count": null,
   "id": "2f1570aa",
   "metadata": {},
   "outputs": [],
   "source": [
    "index = 0\n",
    "for ds in dataset_names:\n",
    "    tree = FeatureInteractionTree(trees_head10[ds][index][1])\n",
    "    break"
   ]
  },
  {
   "cell_type": "code",
   "execution_count": null,
   "id": "78c9f8a1",
   "metadata": {},
   "outputs": [],
   "source": [
    "list(tree.node_name2f_name.values())"
   ]
  },
  {
   "cell_type": "code",
   "execution_count": null,
   "id": "7ff95efa",
   "metadata": {},
   "outputs": [],
   "source": [
    "s = '$$Y='\n",
    "for c, n in zip(tree.coef, list(tree.node_name2f_name.values())):\n",
    "    s_add = f' {c:.4f}\\\\times \\\\text' + '{' + f'{n}' + '}'\n",
    "    s += s_add\n",
    "s += '$$'"
   ]
  },
  {
   "cell_type": "code",
   "execution_count": null,
   "id": "17a89a9f",
   "metadata": {},
   "outputs": [],
   "source": [
    "import pygraphviz\n",
    "from anytree import RenderTree, LevelGroupOrderIter"
   ]
  },
  {
   "cell_type": "code",
   "execution_count": null,
   "id": "adf32169",
   "metadata": {},
   "outputs": [],
   "source": [
    "exp, tree = trees_head10['adult'][0]\n",
    "# tree = FeatureInteractionTree(tree)\n",
    "FeatureInteractionTree(tree)"
   ]
  },
  {
   "cell_type": "code",
   "execution_count": null,
   "id": "3c0198f3",
   "metadata": {},
   "outputs": [],
   "source": [
    "fig = FeatureInteractionTree(tree).show_tree(typ='plotly')"
   ]
  },
  {
   "cell_type": "code",
   "execution_count": null,
   "id": "8d50d66c",
   "metadata": {},
   "outputs": [],
   "source": [
    "fig.write_html('test.html')"
   ]
  },
  {
   "cell_type": "code",
   "execution_count": null,
   "id": "b0de4666",
   "metadata": {},
   "outputs": [],
   "source": [
    "coef = tree.root.model[-1].coef_\n",
    "coef = coef[0] if coef.ndim == 2 else coef\n",
    "feature_names = tree.root.model[1].get_feature_names()\n",
    "n_origin_features = len(tuple(filter(lambda x: isinstance(x, int), feature_names.keys())))\n",
    "combs2index = {}\n",
    "for *_, node in RenderTree(tree.root):\n",
    "    coef_idx = node.k + n_origin_features - 1 if '+' in node.name else int(node.name) \n",
    "    combs2index[node.name] = coef_idx\n",
    "node_name2f_name = dict([(str(k), v) if isinstance(k, int) else ('+'.join(map(str, flatten(k))), '*'.join(map(str, flatten(v)))) for k, v in feature_names.items()])"
   ]
  },
  {
   "cell_type": "code",
   "execution_count": null,
   "id": "f8232918",
   "metadata": {},
   "outputs": [],
   "source": [
    "def _get_fs_str(node):\n",
    "    fs = node_name2f_name[node.name].split('*')\n",
    "    fs_str = f'{fs[0]} * ... * {fs[-1]}' if len(fs) > 2 else ' * '.join(fs)\n",
    "    return fs_str\n",
    "\n",
    "def _fmt(fs_str, coef):\n",
    "    s = '< '\n",
    "    s+=f''s+=f''# if node.interaction != 0.0:#     children_interaction = np.sum([child.interaction for child in node.children])#     s += f''# if node.gap is not None:#     s += f''returns+'\n",
    "{fs_str}\n",
    "coef = {coef:.4f}\n",
    "interaction={node.interaction - children_interaction:.4f}\n",
    "gap={node.gap:.6f}\n",
    " >'\n",
    "\n",
    "def _get_coef(node):\n",
    "    coef_idx = combs2index[node.name]\n",
    "    return coef[coef_idx]\n",
    "\n",
    "def _get_node_color_key(node):\n",
    "    if _get_coef(node) < 0.0:\n",
    "        v_key = -1\n",
    "    elif _get_coef(node) > 0.0:\n",
    "        v_key = 1\n",
    "    else:\n",
    "        v_key = 0\n",
    "\n",
    "    return v_key"
   ]
  },
  {
   "cell_type": "code",
   "execution_count": null,
   "id": "3e002653",
   "metadata": {},
   "outputs": [],
   "source": [
    "colors = {\n",
    "    'blue': '#85a8ed', 'red': '#ed8585', 'black': '#000000', 'green': '#9ced85'\n",
    "}\n",
    "show_kwargs = {\n",
    "    'node':{\n",
    "        1: {'fontname': 'Arial', 'fontsize': 12, 'color': colors['red'], 'shape': 'box'},\n",
    "        0: {'fontname': 'Arial', 'fontsize': 12, 'color': colors['black'], 'shape': 'box'},\n",
    "        -1: {'fontname': 'Arial', 'fontsize': 12, 'color': colors['blue'], 'shape': 'box'}\n",
    "    },\n",
    "    'edge': {\n",
    "        1: {'color': colors['red'], 'arrowsize': 0.5, 'headclip': True, 'tailclip': True},\n",
    "        0: {'color': colors['black'], 'arrowsize': 0.5, 'headclip': True, 'tailclip': True},\n",
    "        -1: {'color': colors['blue'], 'arrowsize': 0.5, 'headclip': True, 'tailclip': True}\n",
    "    }\n",
    "}"
   ]
  },
  {
   "cell_type": "code",
   "execution_count": null,
   "id": "9466e3c4",
   "metadata": {},
   "outputs": [],
   "source": [
    "G = pygraphviz.AGraph(directed=True)\n",
    "G.graph_attr['rankdir'] = 'BT'\n",
    "G.graph_attr[\"ordering\"] = 'out'\n",
    "G.layout(prog='neato')\n",
    "\n",
    "for *_, node in RenderTree(tree.root):\n",
    "    fs_str = _get_fs_str(node)\n",
    "    c = _get_coef(node)\n",
    "    key = _get_node_color_key(node)\n",
    "    G.add_node(combs2index.get(node.name), \n",
    "        label=_fmt(fs_str, c), coef=c, fs_str=fs_str,\n",
    "        **show_kwargs['node'][key]\n",
    "    )\n",
    "    if node.parent is not None:\n",
    "        G.add_edge(combs2index.get(node.name), combs2index.get(node.parent.name), **show_kwargs['edge'][0])\n",
    "    # G.add_subgraph([node for node in G.nodes() if '*' not in node], rank='same')"
   ]
  },
  {
   "cell_type": "code",
   "execution_count": null,
   "id": "22aba367",
   "metadata": {},
   "outputs": [],
   "source": [
    "from io import BytesIO\n",
    "from PIL import Image as PILImage"
   ]
  },
  {
   "cell_type": "code",
   "execution_count": null,
   "id": "5e427e8f",
   "metadata": {},
   "outputs": [],
   "source": [
    "imgbuf = BytesIO()\n",
    "G.draw(imgbuf, format='png', prog='dot')\n",
    "img = PILImage.open(imgbuf)\n",
    "img"
   ]
  },
  {
   "cell_type": "code",
   "execution_count": null,
   "id": "a6eb5ae6",
   "metadata": {},
   "outputs": [],
   "source": [
    "import networkx as nx"
   ]
  },
  {
   "cell_type": "code",
   "execution_count": null,
   "id": "b6b5f57f",
   "metadata": {},
   "outputs": [],
   "source": [
    "depth2node = {}\n",
    "for i, childrens in enumerate(LevelGroupOrderIter(tree.root)):\n",
    "    depth2node[i] = []\n",
    "    for node in childrens:\n",
    "        depth2node[i].append(node.name)\n",
    "depth = len(depth2node)\n",
    "node2depth = {}\n",
    "for lv, nodes in depth2node.items():\n",
    "    for n in nodes:\n",
    "        node2depth[n] = lv\n",
    "node2depth"
   ]
  },
  {
   "cell_type": "code",
   "execution_count": null,
   "id": "c00c2d30",
   "metadata": {},
   "outputs": [],
   "source": [
    "edges = [tuple(map(int, e)) for e in G.edges()]\n",
    "G_nx = nx.from_edgelist(edgelist=edges, create_using=nx.DiGraph)\n",
    "pos = nx.nx_agraph.pygraphviz_layout(G_nx, prog='dot')\n",
    "print(pos)"
   ]
  },
  {
   "cell_type": "code",
   "execution_count": null,
   "id": "ef835098",
   "metadata": {},
   "outputs": [],
   "source": [
    "nx.draw(G_nx, {n: tuple(map(lambda x: -x, c)) for n, c in pos.items()})"
   ]
  },
  {
   "cell_type": "code",
   "execution_count": null,
   "id": "3a302409",
   "metadata": {},
   "outputs": [],
   "source": [
    "position_info = {}\n",
    "for node, coor in pos.items():\n",
    "    attr = dict(\n",
    "        weight = float(G.get_node(node).attr['coef']),\n",
    "        name =  G.get_node(node).attr['fs_str'],\n",
    "        color = G.get_node(node).attr['color']\n",
    "    )\n",
    "    position_info[node] = list(coor) + [attr]\n",
    "position_info"
   ]
  },
  {
   "cell_type": "code",
   "execution_count": null,
   "id": "ef4b7dee",
   "metadata": {},
   "outputs": [],
   "source": [
    "Xn = list(map(lambda x: (x[1][0]), position_info.items()))\n",
    "Yn = list(map(lambda x: (2*depth-x[1][1]), position_info.items()))\n",
    "Xe = []\n",
    "Ye = []\n",
    "for edge in edges:\n",
    "    Xe += [position_info[edge[0]][0], position_info[edge[1]][0], None]\n",
    "    Ye += [2*depth-position_info[edge[0]][1], 2*depth-position_info[edge[1]][1], None]"
   ]
  },
  {
   "cell_type": "code",
   "execution_count": null,
   "id": "1cfeb656",
   "metadata": {},
   "outputs": [],
   "source": [
    "import plotly.graph_objects as go\n",
    "\n",
    "fig = go.Figure()\n",
    "fig.add_trace(\n",
    "    go.Scatter(\n",
    "        x=Xe,\n",
    "        y=Ye,\n",
    "        mode='lines',\n",
    "        name='edges',\n",
    "        line=dict(color='rgb(200,200,200)', width=1.5),\n",
    "        hoverinfo='none',\n",
    "        showlegend=False\n",
    "    )\n",
    ")\n",
    "\n",
    "width = 30\n",
    "height = 20\n",
    "\n",
    "rec_fn_x = lambda x_pos: [x_pos-width/2, x_pos+width/2, x_pos+width/2, x_pos-width/2, x_pos-width/2]\n",
    "rec_fn_y = lambda y_pos: [y_pos-height/2, y_pos-height/2, y_pos+height/2, y_pos+height/2, y_pos-height/2]\n",
    "\n",
    "for n_id, x_coor, y_coor in zip(position_info.keys(), Xn, Yn):\n",
    "    attr = position_info[n_id][-1]\n",
    "    fig.add_trace(\n",
    "        go.Scatter(\n",
    "            x=rec_fn_x(x_coor),\n",
    "            y=rec_fn_y(y_coor),\n",
    "            mode='lines',\n",
    "            line=dict(color='rgb(255,255,255)', width=1),\n",
    "            name=attr['name'],\n",
    "            fill='toself',\n",
    "            fillcolor=attr['color'],\n",
    "            text=f\"{attr['name']}\n",
    "{attr['weight']:.4f}\",\n",
    "            # hovertext='%{name}\n",
    "\n",
    "coef: %{text}',\n",
    "            hoverinfo='text',\n",
    "            showlegend=False\n",
    "        )\n",
    "    )"
   ]
  },
  {
   "cell_type": "code",
   "execution_count": null,
   "id": "0d470482",
   "metadata": {},
   "outputs": [],
   "source": [
    "def make_annotations(pos, font_size=10, font_color='rgb(0,0,0)'):   \n",
    "    L = len(pos)\n",
    "    annotations = []\n",
    "    for k in range(L):\n",
    "        text = pos[k][-1]['name']\n",
    "        annotations.append(\n",
    "            dict(\n",
    "                text=text, # or replace labels with a different list for the text within the circle\n",
    "                x=pos[k][0], y=2*depth-pos[k][1],\n",
    "                xref='x1', yref='y1',\n",
    "                font=dict(color=font_color, size=font_size),\n",
    "                showarrow=False\n",
    "            )\n",
    "        )\n",
    "    return annotations"
   ]
  },
  {
   "cell_type": "code",
   "execution_count": null,
   "id": "0e17c9fe",
   "metadata": {},
   "outputs": [],
   "source": [
    "position_info[22][-1]['name'].replace('* ... *', '~\n",
    "')"
   ]
  },
  {
   "cell_type": "code",
   "execution_count": null,
   "id": "828f5ba2",
   "metadata": {},
   "outputs": [],
   "source": [
    "axis = dict(\n",
    "    showline=False, # hide axis line, grid, ticklabels and  title\n",
    "    zeroline=False,\n",
    "    showgrid=False,\n",
    "    showticklabels=False,\n",
    ")\n",
    "\n",
    "fig.update_layout(\n",
    "    title= 'Tree',\n",
    "    annotations=make_annotations(position_info),\n",
    "    font_size=10,\n",
    "    showlegend=False,\n",
    "    xaxis=axis,\n",
    "    yaxis=axis,\n",
    "    margin=dict(l=40, r=40, b=25, t=50),\n",
    "    hovermode='closest',\n",
    "    plot_bgcolor='rgb(248,248,248)'\n",
    ")\n",
    "fig.show()"
   ]
  }
 ],
 "metadata": {
  "kernelspec": {
   "display_name": "Python 3 (ipykernel)",
   "language": "python",
   "name": "python3"
  },
  "language_info": {
   "codemirror_mode": {
    "name": "ipython",
    "version": 3
   },
   "file_extension": ".py",
   "mimetype": "text/x-python",
   "name": "python",
   "nbconvert_exporter": "python",
   "pygments_lexer": "ipython3",
   "version": "3.10.4"
  }
 },
 "nbformat": 4,
 "nbformat_minor": 5
}
